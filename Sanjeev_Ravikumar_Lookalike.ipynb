{
  "nbformat": 4,
  "nbformat_minor": 0,
  "metadata": {
    "colab": {
      "provenance": [],
      "authorship_tag": "ABX9TyOWDmto0RPLmfx4qVfP+htA",
      "include_colab_link": true
    },
    "kernelspec": {
      "name": "python3",
      "display_name": "Python 3"
    },
    "language_info": {
      "name": "python"
    }
  },
  "cells": [
    {
      "cell_type": "markdown",
      "metadata": {
        "id": "view-in-github",
        "colab_type": "text"
      },
      "source": [
        "<a href=\"https://colab.research.google.com/github/SanjeevRSRK/Sanjeev-_Ravikumar_Lookalike/blob/main/Sanjeev_Ravikumar_Lookalike.ipynb\" target=\"_parent\"><img src=\"https://colab.research.google.com/assets/colab-badge.svg\" alt=\"Open In Colab\"/></a>"
      ]
    },
    {
      "cell_type": "code",
      "execution_count": null,
      "metadata": {
        "id": "lD72fbB3J6Ya"
      },
      "outputs": [],
      "source": [
        "# Import necessary libraries\n",
        "import pandas as pd\n",
        "from sklearn.preprocessing import LabelEncoder, MinMaxScaler\n",
        "from sklearn.metrics.pairwise import cosine_similarity"
      ]
    },
    {
      "cell_type": "code",
      "source": [
        "#  Load Datasets\n",
        "customers = pd.read_csv(\"Customers.csv\")\n",
        "products = pd.read_csv(\"Products.csv\")\n",
        "transactions = pd.read_csv(\"Transactions.csv\")"
      ],
      "metadata": {
        "id": "rR8-4S7UKHQT"
      },
      "execution_count": null,
      "outputs": []
    },
    {
      "cell_type": "code",
      "source": [
        "#  Merge Datasets\n",
        "# Merge transactions with customers and products\n",
        "merged_data = transactions.merge(customers, on=\"CustomerID\").merge(products, on=\"ProductID\")\n",
        "\n",
        "# Rename conflicting columns to avoid ambiguity\n",
        "merged_data.rename(columns={'Price_y': 'Price', 'Price_x': 'TransactionPrice'}, inplace=True)"
      ],
      "metadata": {
        "id": "8nGoDxz5KHWc"
      },
      "execution_count": null,
      "outputs": []
    },
    {
      "cell_type": "code",
      "source": [
        "# Preprocessing and Feature Engineering\n",
        "# Encode the 'Region' column into numerical format\n",
        "le_region = LabelEncoder()\n",
        "merged_data['Region'] = le_region.fit_transform(merged_data['Region'])\n",
        "\n",
        "\n",
        "\n",
        "# Aggregate features for each customer\n",
        "customer_profiles = merged_data.groupby('CustomerID').agg({\n",
        "    'Region': 'first',               # First region associated with the customer\n",
        "    'Price': 'mean',                 # Average price of products purchased\n",
        "    'Quantity': 'sum',               # Total quantity purchased\n",
        "    'TotalValue': 'sum'              # Total transaction value\n",
        "}).reset_index()\n"
      ],
      "metadata": {
        "id": "x_RwltMiKHcj"
      },
      "execution_count": null,
      "outputs": []
    },
    {
      "cell_type": "code",
      "source": [
        "# Normalize Features\n",
        "# Scale numerical features to a 0-1 range\n",
        "scaler = MinMaxScaler()\n",
        "normalized_features = scaler.fit_transform(customer_profiles.iloc[:, 1:])  # Exclude CustomerID"
      ],
      "metadata": {
        "id": "b0w_yc-5KHiw"
      },
      "execution_count": null,
      "outputs": []
    },
    {
      "cell_type": "code",
      "source": [
        "#  Calculate Cosine Similarity\n",
        "# Compute pairwise cosine similarity\n",
        "similarity_matrix = cosine_similarity(normalized_features)\n",
        "\n",
        "# Create a similarity DataFrame for better handling\n",
        "similarity_df = pd.DataFrame(\n",
        "    similarity_matrix,\n",
        "    index=customer_profiles['CustomerID'],\n",
        "    columns=customer_profiles['CustomerID']\n",
        ")"
      ],
      "metadata": {
        "id": "OtwGus69KHsw"
      },
      "execution_count": null,
      "outputs": []
    },
    {
      "cell_type": "code",
      "source": [
        "#  Generate Lookalike Recommendations\n",
        "# Find top 3 similar customers for the first 20 customers (C0001 to C0020)\n",
        "top_lookalikes = {}\n",
        "for cust_id in customer_profiles['CustomerID'][:20]:\n",
        "    # Get top 3 most similar customers (exclude the customer itself)\n",
        "    similar_customers = similarity_df[cust_id].sort_values(ascending=False)[1:4]\n",
        "    top_lookalikes[cust_id] = [(sim_cust_id, round(sim_score, 3)) for sim_cust_id, sim_score in similar_customers.items()]"
      ],
      "metadata": {
        "id": "TqgSsWdwKHv0"
      },
      "execution_count": null,
      "outputs": []
    },
    {
      "cell_type": "code",
      "source": [
        "# Save Recommendations to CSV\n",
        "output_file = \"Sanjeev_Ravikumar_Lookalike.csv\"\n",
        "with open(output_file, \"w\") as f:\n",
        "    f.write(\"CustomerID,Lookalikes\\n\")\n",
        "    for cust_id, lookalikes in top_lookalikes.items():\n",
        "        f.write(f\"{cust_id},\\\"{lookalikes}\\\"\\n\")\n",
        "\n",
        "print(f\"Lookalike recommendations saved to {output_file}\")\n",
        "\n",
        "# Optional: Print sample recommendations\n",
        "print(\"\\nSample Recommendations:\")\n",
        "for cust_id, recommendations in list(top_lookalikes.items())[:5]:\n",
        "    print(f\"CustomerID: {cust_id} -> Lookalikes: {recommendations}\")\n"
      ],
      "metadata": {
        "colab": {
          "base_uri": "https://localhost:8080/"
        },
        "id": "OQZUyJIaKHzN",
        "outputId": "7993728c-b482-4ff7-ba94-dcb31c236c21"
      },
      "execution_count": null,
      "outputs": [
        {
          "output_type": "stream",
          "name": "stdout",
          "text": [
            "Lookalike recommendations saved to Sanjeev_Ravikumar_Lookalike.csv\n",
            "\n",
            "Sample Recommendations:\n",
            "CustomerID: C0001 -> Lookalikes: [('C0137', 0.999), ('C0191', 0.999), ('C0011', 0.999)]\n",
            "CustomerID: C0002 -> Lookalikes: [('C0088', 0.998), ('C0027', 0.998), ('C0106', 0.994)]\n",
            "CustomerID: C0003 -> Lookalikes: [('C0190', 0.999), ('C0147', 0.998), ('C0174', 0.996)]\n",
            "CustomerID: C0004 -> Lookalikes: [('C0113', 0.999), ('C0034', 0.997), ('C0169', 0.996)]\n",
            "CustomerID: C0005 -> Lookalikes: [('C0007', 1.0), ('C0146', 1.0), ('C0115', 0.998)]\n"
          ]
        }
      ]
    },
    {
      "cell_type": "code",
      "source": [
        "#  Calculate Cosine Similarity\n",
        "# Compute cosine similarity between customer profiles\n",
        "similarity_matrix = cosine_similarity(normalized_features)\n",
        "\n",
        "# Convert similarity matrix to a DataFrame for easier handling\n",
        "similarity_df = pd.DataFrame(\n",
        "    similarity_matrix,\n",
        "    index=customer_profiles['CustomerID'],  # Row labels are Customer IDs\n",
        "    columns=customer_profiles['CustomerID']  # Column labels are Customer IDs\n",
        ")\n",
        "\n",
        "# Generate Recommendations for the First 20 Customers\n",
        "# Focus on the first 20 customers (C0001 to C0020)\n",
        "top_lookalikes = {}\n",
        "for cust_id in customer_profiles['CustomerID'][:20]:  # Loop through the first 20 customers\n",
        "    # Sort similarity scores in descending order and exclude the customer itself\n",
        "    similar_customers = similarity_df[cust_id].sort_values(ascending=False)[1:4]\n",
        "    # Store the top 3 similar customers and their scores\n",
        "    top_lookalikes[cust_id] = [(sim_cust_id, round(sim_score, 3)) for sim_cust_id, sim_score in similar_customers.items()]\n",
        "\n",
        "# Save Recommendations to Lookalike.csv\n",
        "output_file = \"Sanjeev_Ravikumar_Lookalike.csv\"\n",
        "with open(output_file, \"w\") as f:\n",
        "    f.write(\"CustomerID,Lookalikes\\n\")\n",
        "    for cust_id, lookalikes in top_lookalikes.items():\n",
        "        f.write(f\"{cust_id},\\\"{lookalikes}\\\"\\n\")\n",
        "\n",
        "# Display a sample of the results\n",
        "print(\"\\nRecommendations for First 20 Customers:\")\n",
        "for cust_id, recommendations in list(top_lookalikes.items())[:5]:  # Display the first 5 for preview\n",
        "    print(f\"CustomerID: {cust_id} -> Lookalikes: {recommendations}\")\n"
      ],
      "metadata": {
        "colab": {
          "base_uri": "https://localhost:8080/"
        },
        "id": "0YwUffGPKH2k",
        "outputId": "34f2b080-4ea1-4c39-fc98-c663e6316bad"
      },
      "execution_count": null,
      "outputs": [
        {
          "output_type": "stream",
          "name": "stdout",
          "text": [
            "\n",
            "Recommendations for First 20 Customers:\n",
            "CustomerID: C0001 -> Lookalikes: [('C0137', 0.999), ('C0191', 0.999), ('C0011', 0.999)]\n",
            "CustomerID: C0002 -> Lookalikes: [('C0088', 0.998), ('C0027', 0.998), ('C0106', 0.994)]\n",
            "CustomerID: C0003 -> Lookalikes: [('C0190', 0.999), ('C0147', 0.998), ('C0174', 0.996)]\n",
            "CustomerID: C0004 -> Lookalikes: [('C0113', 0.999), ('C0034', 0.997), ('C0169', 0.996)]\n",
            "CustomerID: C0005 -> Lookalikes: [('C0007', 1.0), ('C0146', 1.0), ('C0115', 0.998)]\n"
          ]
        }
      ]
    },
    {
      "cell_type": "code",
      "source": [],
      "metadata": {
        "id": "KU8VPhULKH6U"
      },
      "execution_count": null,
      "outputs": []
    },
    {
      "cell_type": "code",
      "source": [],
      "metadata": {
        "id": "29jb8ntFKH9M"
      },
      "execution_count": null,
      "outputs": []
    },
    {
      "cell_type": "code",
      "source": [],
      "metadata": {
        "id": "LKdtqdaCKIAw"
      },
      "execution_count": null,
      "outputs": []
    },
    {
      "cell_type": "code",
      "source": [],
      "metadata": {
        "id": "X6jiUUyOKIEN"
      },
      "execution_count": null,
      "outputs": []
    }
  ]
}